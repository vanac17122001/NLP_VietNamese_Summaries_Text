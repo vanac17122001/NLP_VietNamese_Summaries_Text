{
 "cells": [
  {
   "cell_type": "code",
   "execution_count": 4,
   "metadata": {},
   "outputs": [],
   "source": [
    "from bert_score import score\n",
    "from sources import KMeans"
   ]
  },
  {
   "cell_type": "code",
   "execution_count": 5,
   "metadata": {},
   "outputs": [],
   "source": [
    "original_text=\"\"\"\n",
    "Trump cáo buộc đảng Dân chủ đang theo đuổi \"nỗ lực đảo chính bất hợp pháp, mang tính đảng phái\" khi tìm cách luận tội ông.\n",
    "\n",
    "\"Chính các người mới là phe can thiệp vào bầu cử Mỹ, phá vỡ nền dân chủ của đất nước và cản trở công lý. Điều này không là gì khác ngoài một nỗ lực đảo chính bất hợp pháp, mang tính đảng phái và sẽ thất bại nặng nề tại hòm phiếu, dựa trên tình hình gần đây\", Tổng thống Mỹ Donald Trump viết trong lá thư dài 6 trang gửi Chủ tịch Hạ viện Nancy Pelosi vào hôm qua để chỉ trích cuộc điều tra luận tội của phe Dân chủ. \n",
    "\n",
    "Ông chủ Nhà Trắng viết thêm rằng bà Pelosi \"đang biến hạ viện từ cơ quan lập pháp được kính trọng thành một phòng xử án của cuộc đàn áp đảng phái\", đồng thời \"gần như không thèm che giấu sự thù ghét\" đối với ông. \n",
    "\n",
    "\"Bằng cách thúc đẩy cuộc luận tội trái phép đó, các người đang vi phạm lời thề nhậm chức, phá vỡ lòng trung thành với hiến pháp và tuyên chiến với nền dân chủ Mỹ. Các người coi dân chủ là kẻ thù của chính mình\", Trump viết.\n",
    "Bức thư của Trump được gửi đi trong bối cảnh hạ viện, nơi đảng Dân chủ chiếm đa số, dự kiến bỏ phiếu vào hôm nay về các điều khoản luận tội Tổng thống Mỹ và khả năng cao sẽ thông qua để đưa Trump ra xét xử tại thượng viện. Ông gần như chắc chắn sẽ trở thành tổng thống Mỹ thứ ba trong lịch sử bị luận tội. \n",
    "\n",
    "Trước đó, Ủy ban Tư pháp Hạ viện đã thông qua hai điều khoản luận tội Trump, bao gồm lạm dụng quyền lực và cản trở quốc hội. Phe Dân chủ cáo buộc Trump thúc ép Ukraine điều tra cha con cựu phó tổng thống Mỹ Joe Biden, đối thủ của Trump trong cuộc bầu cử năm 2020, gây nguy hiểm cho hiến pháp Mỹ, an ninh quốc gia và tính công bằng của bầu cử. \n",
    "\n",
    "Trong khi đó, đảng Cộng hòa vẫn cố gắng bảo vệ Trump, khi lãnh đạo phe đa số tại thượng viện Mitch McConnell bác bỏ yêu cầu của đảng Dân chủ nhằm đề nghị 4 quan chức cũ và đương nhiệm ra làm chứng tại phiên tòa luận tội dự kiến diễn ra ở thượng viện vào tháng tới. \n",
    "\n",
    "Hạ viện Mỹ mở cuộc điều tra luận tội Trump từ tháng 9, sau khi một người tố giác giấu tên đệ đơn cáo buộc Tổng thống Mỹ dùng gói viện trợ quân sự để gây áp lực lên người đồng cấp Ukraine Volodymyr Zelensky. Tuy nhiên, Trump phủ nhận các cáo buộc và gọi cuộc điều tra luận tội là trò lừa bịp.\n",
    "\"\"\""
   ]
  },
  {
   "cell_type": "code",
   "execution_count": 6,
   "metadata": {},
   "outputs": [
    {
     "name": "stdout",
     "output_type": "stream",
     "text": [
      "173444\n",
      "0 === trump cáo buộc đảng dân chủ đang theo đuổi \"nỗ lực đảo chính bất hợp pháp, mang tính đảng phái\" khi tìm cách luận tội ông.\n",
      "1 === \"chính các người mới là phe can thiệp vào bầu cử mỹ, phá vỡ nền dân chủ của đất nước và cản trở công lý.\n",
      "2 === điều này không là gì khác ngoài một nỗ lực đảo chính bất hợp pháp, mang tính đảng phái và sẽ thất bại nặng nề tại hòm phiếu, dựa trên tình hình gần đây\", tổng thống mỹ donald trump viết trong lá thư dài 6 trang gửi chủ tịch hạ viện nancy pelosi vào hôm qua để chỉ trích cuộc điều tra luận tội của phe dân chủ.\n",
      "3 === ông chủ nhà trắng viết thêm rằng bà pelosi \"đang biến hạ viện từ cơ quan lập pháp được kính trọng thành một phòng xử án của cuộc đàn áp đảng phái\", đồng thời \"gần như không thèm che giấu sự thù ghét\" đối với ông.\n",
      "4 === \"bằng cách thúc đẩy cuộc luận tội trái phép đó, các người đang vi phạm lời thề nhậm chức, phá vỡ lòng trung thành với hiến pháp và tuyên chiến với nền dân chủ mỹ.\n",
      "5 === các người coi dân chủ là kẻ thù của chính mình\", trump viết.\n",
      "6 === bức thư của trump được gửi đi trong bối cảnh hạ viện, nơi đảng dân chủ chiếm đa số, dự kiến bỏ phiếu vào hôm nay về các điều khoản luận tội tổng thống mỹ và khả năng cao sẽ thông qua để đưa trump ra xét xử tại thượng viện.\n",
      "7 === ông gần như chắc chắn sẽ trở thành tổng thống mỹ thứ ba trong lịch sử bị luận tội.\n",
      "8 === trước đó, ủy ban tư pháp hạ viện đã thông qua hai điều khoản luận tội trump, bao gồm lạm dụng quyền lực và cản trở quốc hội.\n",
      "9 === phe dân chủ cáo buộc trump thúc ép ukraine điều tra cha con cựu phó tổng thống mỹ joe biden, đối thủ của trump trong cuộc bầu cử năm 2020, gây nguy hiểm cho hiến pháp mỹ, an ninh quốc gia và tính công bằng của bầu cử.\n",
      "10 === trong khi đó, đảng cộng hòa vẫn cố gắng bảo vệ trump, khi lãnh đạo phe đa số tại thượng viện mitch mcconnell bác bỏ yêu cầu của đảng dân chủ nhằm đề nghị 4 quan chức cũ và đương nhiệm ra làm chứng tại phiên tòa luận tội dự kiến diễn ra ở thượng viện vào tháng tới.\n",
      "11 === hạ viện mỹ mở cuộc điều tra luận tội trump từ tháng 9, sau khi một người tố giác giấu tên đệ đơn cáo buộc tổng thống mỹ dùng gói viện trợ quân sự để gây áp lực lên người đồng cấp ukraine volodymyr zelensky.\n",
      "12 === tuy nhiên, trump phủ nhận các cáo buộc và gọi cuộc điều tra luận tội là trò lừa bịp.\n",
      "13\n",
      "K-Means Clustering\n",
      "\n",
      "Cụm 1\n",
      "[ 3  4  9 11]\n",
      "Thứ tự trung bình:  6.75\n",
      "===================================================================================================================\n",
      "Cụm 2\n",
      "[ 2  6 10]\n",
      "Thứ tự trung bình:  6.0\n",
      "===================================================================================================================\n",
      "Cụm 3\n",
      "[ 0  1  5  7  8 12]\n",
      "Thứ tự trung bình:  5.5\n",
      "===================================================================================================================\n",
      "Các câu gần 3 tâm cụm nhất [11  6  0]\n",
      "\n",
      "Kết quả tóm tắt:\n",
      "\n"
     ]
    }
   ],
   "source": [
    "summary_text=KMeans.KMeans(original_text)"
   ]
  },
  {
   "cell_type": "code",
   "execution_count": 12,
   "metadata": {},
   "outputs": [
    {
     "name": "stderr",
     "output_type": "stream",
     "text": [
      "Some weights of the model checkpoint at bert-base-multilingual-cased were not used when initializing BertModel: ['cls.predictions.transform.dense.bias', 'cls.predictions.transform.LayerNorm.weight', 'cls.predictions.transform.LayerNorm.bias', 'cls.predictions.bias', 'cls.predictions.decoder.weight', 'cls.predictions.transform.dense.weight', 'cls.seq_relationship.bias', 'cls.seq_relationship.weight']\n",
      "- This IS expected if you are initializing BertModel from the checkpoint of a model trained on another task or with another architecture (e.g. initializing a BertForSequenceClassification model from a BertForPreTraining model).\n",
      "- This IS NOT expected if you are initializing BertModel from the checkpoint of a model that you expect to be exactly identical (initializing a BertForSequenceClassification model from a BertForSequenceClassification model).\n"
     ]
    },
    {
     "name": "stdout",
     "output_type": "stream",
     "text": [
      "calculating scores...\n",
      "computing bert embedding.\n"
     ]
    },
    {
     "data": {
      "application/vnd.jupyter.widget-view+json": {
       "model_id": "a111fbfbd39049ff83186b2e14c13c09",
       "version_major": 2,
       "version_minor": 0
      },
      "text/plain": [
       "  0%|          | 0/1 [00:00<?, ?it/s]"
      ]
     },
     "metadata": {},
     "output_type": "display_data"
    },
    {
     "name": "stdout",
     "output_type": "stream",
     "text": [
      "computing greedy matching.\n"
     ]
    },
    {
     "data": {
      "application/vnd.jupyter.widget-view+json": {
       "model_id": "ee7daa716c1144c985343621f5237ead",
       "version_major": 2,
       "version_minor": 0
      },
      "text/plain": [
       "  0%|          | 0/1 [00:00<?, ?it/s]"
      ]
     },
     "metadata": {},
     "output_type": "display_data"
    },
    {
     "name": "stdout",
     "output_type": "stream",
     "text": [
      "done in 2.22 seconds, 0.45 sentences/sec\n",
      "Precision : tensor([0.6901])\n",
      "F1 : tensor([0.7263])\n",
      "Recall : tensor([0.7664])\n"
     ]
    }
   ],
   "source": [
    "# calculate precision, recall and F1 score\n",
    "P, R, F1 = score([original_text], [summary_text], lang=\"vi\", verbose=True)\n",
    "print(\"Precision : \" +str(P))\n",
    "print(\"F1 : \"+ str(F1))\n",
    "print(\"Recall : \" + str(R))"
   ]
  },
  {
   "cell_type": "markdown",
   "metadata": {},
   "source": [
    "Reference : https://medium.com/@svitlana.galeshchuk/can-you-believe-what-you-read-or-how-well-your-model-summarizes-a-text-8301e54d3ba5"
   ]
  }
 ],
 "metadata": {
  "kernelspec": {
   "display_name": "Python 3.10.0 64-bit",
   "language": "python",
   "name": "python3"
  },
  "language_info": {
   "codemirror_mode": {
    "name": "ipython",
    "version": 3
   },
   "file_extension": ".py",
   "mimetype": "text/x-python",
   "name": "python",
   "nbconvert_exporter": "python",
   "pygments_lexer": "ipython3",
   "version": "3.10.0"
  },
  "orig_nbformat": 4,
  "vscode": {
   "interpreter": {
    "hash": "300ab3523d9a002b8aa4e51dfdf30c981129d9775c0b7f5666af19a3981c6d47"
   }
  }
 },
 "nbformat": 4,
 "nbformat_minor": 2
}
