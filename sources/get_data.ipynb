{
 "cells": [
  {
   "cell_type": "code",
   "execution_count": 1,
   "metadata": {},
   "outputs": [
    {
     "name": "stdout",
     "output_type": "stream",
     "text": [
      "Read data\n"
     ]
    }
   ],
   "source": [
    "print(\"Read data\")"
   ]
  },
  {
   "cell_type": "code",
   "execution_count": 2,
   "metadata": {},
   "outputs": [],
   "source": [
    "from sklearn import preprocessing\n",
    "from sklearn.feature_extraction.text import TfidfVectorizer\n",
    "from pyvi import ViTokenizer, ViPosTagger\n",
    "from tqdm import tqdm\n",
    "import numpy as np\n",
    "import gensim\n",
    "import numpy as np\n",
    "import os \n",
    "import pickle"
   ]
  },
  {
   "cell_type": "code",
   "execution_count": 3,
   "metadata": {},
   "outputs": [
    {
     "name": "stdout",
     "output_type": "stream",
     "text": [
      "E:\\TaiLieuDaiHoc\\NamTu\\HKI\\TieuLuanChuyenNganh\\project\\NLP_VietNamese_Summaries_Text\n"
     ]
    }
   ],
   "source": [
    "dir_path = os.path.dirname(os.path.realpath(os.getcwd()))\n",
    "#dir_path = os.path.join(dir_path, 'NLP-proj')\n",
    "print(dir_path)"
   ]
  },
  {
   "cell_type": "code",
   "execution_count": 4,
   "metadata": {},
   "outputs": [],
   "source": [
    "def get_data(folder):\n",
    "    sentences = []\n",
    "    for path in os.listdir(folder):\n",
    "        file_path = os.path.join(folder, path)\n",
    "        with open(file_path, 'r', encoding=\"utf-16\") as f:\n",
    "\n",
    "            lines = f.readlines()\n",
    "\n",
    "            for line in lines:\n",
    "                sens = line.split('.')\n",
    "                for sen in sens:\n",
    "                    if len(sen) > 10:\n",
    "                        sen = gensim.utils.simple_preprocess(sen)\n",
    "                        sen = ' '.join(sen)\n",
    "                        sen = ViTokenizer.tokenize(sen)\n",
    "                        sentences.append(sen)\n",
    "\n",
    "    return sentences"
   ]
  },
  {
   "cell_type": "code",
   "execution_count": 16,
   "metadata": {},
   "outputs": [],
   "source": [
    "from multiprocessing import Pool\n",
    "sentences = []\n",
    "train_paths = [os.path.join(dir_path, 'sources\\Data\\MuoiTopics\\Ver1.1\\Train_Full'), \n",
    "               os.path.join(dir_path, 'sources\\Data\\MuoiTopics\\Ver1.1\\Test_Full'),\n",
    "               os.path.join(dir_path, 'sources\\Data\\HaiMuoiBayTopics\\Ver1.1\\DatatrainNew'),\n",
    "               os.path.join(dir_path, 'sources\\Data\\HaiMuoiBayTopics\\Ver1.1\\DatatestNew')]\n",
    "\n",
    "#print(train_paths)\n",
    "# print(type(train_paths))\n",
    "# print(train_paths[0])"
   ]
  },
  {
   "cell_type": "code",
   "execution_count": null,
   "metadata": {},
   "outputs": [],
   "source": [
    "dirs = []\n",
    "for path in train_paths:\n",
    "    for p in os.listdir(path):\n",
    "        dirs.append(os.path.join(path, p))\n",
    "print(dirs)"
   ]
  },
  {
   "cell_type": "code",
   "execution_count": 18,
   "metadata": {},
   "outputs": [
    {
     "name": "stderr",
     "output_type": "stream",
     "text": [
      " 11%|█         | 8/74 [03:39<33:15, 30.23s/it]"
     ]
    }
   ],
   "source": [
    "# dirs.remove('/Users/linhnvc/Desktop/NLP-proj/Data/10Topics/Ver1.1/Train_Full/.DS_Store')\n",
    "# dirs.remove('/Users/linhnvc/Desktop/NLP-proj/Data/10Topics/Ver1.1/Test_Full/.DS_Store')\n",
    "# dirs.remove('/Users/linhnvc/Desktop/NLP-proj/Data/27Topics/Ver1.1/new test/.DS_Store')\n",
    "# print(len(dirs))\n",
    "# print(dirs)\n",
    "\n",
    "# hàm tqdm sẽ hiển thị giao diện tiến trình chạy vòng lặp bên dưới \n",
    "for d in tqdm(dirs):\n",
    "    sens = get_data(d)\n",
    "    sentences = sentences + sens\n"
   ]
  },
  {
   "cell_type": "code",
   "execution_count": null,
   "metadata": {},
   "outputs": [
    {
     "name": "stdout",
     "output_type": "stream",
     "text": [
      "2385532\n"
     ]
    }
   ],
   "source": [
    "print(len(sentences))"
   ]
  },
  {
   "cell_type": "code",
   "execution_count": null,
   "metadata": {},
   "outputs": [],
   "source": [
    "# Write data vào file sentences.pkl. wb : write binary\n",
    "pickle.dump(sentences, open('./sentences.pkl', 'wb'))"
   ]
  }
 ],
 "metadata": {
  "kernelspec": {
   "display_name": "Python 3.10.0 64-bit",
   "language": "python",
   "name": "python3"
  },
  "language_info": {
   "codemirror_mode": {
    "name": "ipython",
    "version": 3
   },
   "file_extension": ".py",
   "mimetype": "text/x-python",
   "name": "python",
   "nbconvert_exporter": "python",
   "pygments_lexer": "ipython3",
   "version": "3.10.0"
  },
  "vscode": {
   "interpreter": {
    "hash": "7d1edf6b6f9f90690d614e93b9aa31e0491e377e3cd635605f807742e2982f8d"
   }
  }
 },
 "nbformat": 4,
 "nbformat_minor": 2
}
