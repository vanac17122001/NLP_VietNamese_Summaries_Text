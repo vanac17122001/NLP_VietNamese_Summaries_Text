{
 "cells": [
  {
   "cell_type": "code",
   "execution_count": 12,
   "metadata": {},
   "outputs": [
    {
     "name": "stdout",
     "output_type": "stream",
     "text": [
      "Read data\n"
     ]
    }
   ],
   "source": [
    "print(\"Read data\")"
   ]
  },
  {
   "cell_type": "code",
   "execution_count": 13,
   "metadata": {},
   "outputs": [],
   "source": [
    "from sklearn import preprocessing\n",
    "from sklearn.feature_extraction.text import TfidfVectorizer\n",
    "from pyvi import ViTokenizer, ViPosTagger\n",
    "from tqdm import tqdm\n",
    "import numpy as np\n",
    "import gensim\n",
    "import numpy as np\n",
    "import os \n",
    "import pickle"
   ]
  },
  {
   "cell_type": "code",
   "execution_count": 14,
   "metadata": {},
   "outputs": [
    {
     "name": "stdout",
     "output_type": "stream",
     "text": [
      "E:\\TaiLieuDaiHoc\\NamTu\\HKI\\TieuLuanChuyenNganh\\TaiLieuThamKhao\\Project\\vietnamese-text-summarization-master\n"
     ]
    }
   ],
   "source": [
    "dir_path = os.path.dirname(os.path.realpath(os.getcwd()))\n",
    "#dir_path = os.path.join(dir_path, 'NLP-proj')\n",
    "print(dir_path)"
   ]
  },
  {
   "cell_type": "code",
   "execution_count": 15,
   "metadata": {},
   "outputs": [],
   "source": [
    "def get_data(folder):\n",
    "    sentences = []\n",
    "    for path in os.listdir(folder):\n",
    "        file_path = os.path.join(folder, path)\n",
    "        with open(file_path, 'r', encoding=\"utf-16\") as f:\n",
    "\n",
    "            lines = f.readlines()\n",
    "\n",
    "            for line in lines:\n",
    "                sens = line.split('.')\n",
    "                for sen in sens:\n",
    "                    if len(sen) > 10:\n",
    "                        sen = gensim.utils.simple_preprocess(sen)\n",
    "                        sen = ' '.join(sen)\n",
    "                        sen = ViTokenizer.tokenize(sen)\n",
    "                        sentences.append(sen)\n",
    "\n",
    "    return sentences"
   ]
  },
  {
   "cell_type": "code",
   "execution_count": 16,
   "metadata": {},
   "outputs": [],
   "source": [
    "from multiprocessing import Pool\n",
    "sentences = []\n",
    "train_paths = [os.path.join(dir_path, 'sources\\Data\\MuoiTopics\\Ver1.1\\Train_Full'), \n",
    "               os.path.join(dir_path, 'sources\\Data\\MuoiTopics\\Ver1.1\\Test_Full'),\n",
    "               os.path.join(dir_path, 'sources\\Data\\HaiMuoiBayTopics\\Ver1.1\\DatatrainNew'),\n",
    "               os.path.join(dir_path, 'sources\\Data\\HaiMuoiBayTopics\\Ver1.1\\DatatestNew')]\n",
    "\n",
    "#print(train_paths)\n",
    "# print(type(train_paths))\n",
    "# print(train_paths[0])"
   ]
  },
  {
   "cell_type": "code",
   "execution_count": 17,
   "metadata": {},
   "outputs": [
    {
     "name": "stdout",
     "output_type": "stream",
     "text": [
      "['E:\\\\TaiLieuDaiHoc\\\\NamTu\\\\HKI\\\\TieuLuanChuyenNganh\\\\TaiLieuThamKhao\\\\Project\\\\vietnamese-text-summarization-master\\\\sources\\\\Data\\\\MuoiTopics\\\\Ver1.1\\\\Train_Full\\\\Chinh tri Xa hoi', 'E:\\\\TaiLieuDaiHoc\\\\NamTu\\\\HKI\\\\TieuLuanChuyenNganh\\\\TaiLieuThamKhao\\\\Project\\\\vietnamese-text-summarization-master\\\\sources\\\\Data\\\\MuoiTopics\\\\Ver1.1\\\\Train_Full\\\\Doi song', 'E:\\\\TaiLieuDaiHoc\\\\NamTu\\\\HKI\\\\TieuLuanChuyenNganh\\\\TaiLieuThamKhao\\\\Project\\\\vietnamese-text-summarization-master\\\\sources\\\\Data\\\\MuoiTopics\\\\Ver1.1\\\\Train_Full\\\\Khoa hoc', 'E:\\\\TaiLieuDaiHoc\\\\NamTu\\\\HKI\\\\TieuLuanChuyenNganh\\\\TaiLieuThamKhao\\\\Project\\\\vietnamese-text-summarization-master\\\\sources\\\\Data\\\\MuoiTopics\\\\Ver1.1\\\\Train_Full\\\\Kinh doanh', 'E:\\\\TaiLieuDaiHoc\\\\NamTu\\\\HKI\\\\TieuLuanChuyenNganh\\\\TaiLieuThamKhao\\\\Project\\\\vietnamese-text-summarization-master\\\\sources\\\\Data\\\\MuoiTopics\\\\Ver1.1\\\\Train_Full\\\\Phap luat', 'E:\\\\TaiLieuDaiHoc\\\\NamTu\\\\HKI\\\\TieuLuanChuyenNganh\\\\TaiLieuThamKhao\\\\Project\\\\vietnamese-text-summarization-master\\\\sources\\\\Data\\\\MuoiTopics\\\\Ver1.1\\\\Train_Full\\\\Suc khoe', 'E:\\\\TaiLieuDaiHoc\\\\NamTu\\\\HKI\\\\TieuLuanChuyenNganh\\\\TaiLieuThamKhao\\\\Project\\\\vietnamese-text-summarization-master\\\\sources\\\\Data\\\\MuoiTopics\\\\Ver1.1\\\\Train_Full\\\\The gioi', 'E:\\\\TaiLieuDaiHoc\\\\NamTu\\\\HKI\\\\TieuLuanChuyenNganh\\\\TaiLieuThamKhao\\\\Project\\\\vietnamese-text-summarization-master\\\\sources\\\\Data\\\\MuoiTopics\\\\Ver1.1\\\\Train_Full\\\\The thao', 'E:\\\\TaiLieuDaiHoc\\\\NamTu\\\\HKI\\\\TieuLuanChuyenNganh\\\\TaiLieuThamKhao\\\\Project\\\\vietnamese-text-summarization-master\\\\sources\\\\Data\\\\MuoiTopics\\\\Ver1.1\\\\Train_Full\\\\Van hoa', 'E:\\\\TaiLieuDaiHoc\\\\NamTu\\\\HKI\\\\TieuLuanChuyenNganh\\\\TaiLieuThamKhao\\\\Project\\\\vietnamese-text-summarization-master\\\\sources\\\\Data\\\\MuoiTopics\\\\Ver1.1\\\\Train_Full\\\\Vi tinh', 'E:\\\\TaiLieuDaiHoc\\\\NamTu\\\\HKI\\\\TieuLuanChuyenNganh\\\\TaiLieuThamKhao\\\\Project\\\\vietnamese-text-summarization-master\\\\sources\\\\Data\\\\MuoiTopics\\\\Ver1.1\\\\Test_Full\\\\Chinh tri Xa hoi', 'E:\\\\TaiLieuDaiHoc\\\\NamTu\\\\HKI\\\\TieuLuanChuyenNganh\\\\TaiLieuThamKhao\\\\Project\\\\vietnamese-text-summarization-master\\\\sources\\\\Data\\\\MuoiTopics\\\\Ver1.1\\\\Test_Full\\\\Doi song', 'E:\\\\TaiLieuDaiHoc\\\\NamTu\\\\HKI\\\\TieuLuanChuyenNganh\\\\TaiLieuThamKhao\\\\Project\\\\vietnamese-text-summarization-master\\\\sources\\\\Data\\\\MuoiTopics\\\\Ver1.1\\\\Test_Full\\\\Khoa hoc', 'E:\\\\TaiLieuDaiHoc\\\\NamTu\\\\HKI\\\\TieuLuanChuyenNganh\\\\TaiLieuThamKhao\\\\Project\\\\vietnamese-text-summarization-master\\\\sources\\\\Data\\\\MuoiTopics\\\\Ver1.1\\\\Test_Full\\\\Kinh doanh', 'E:\\\\TaiLieuDaiHoc\\\\NamTu\\\\HKI\\\\TieuLuanChuyenNganh\\\\TaiLieuThamKhao\\\\Project\\\\vietnamese-text-summarization-master\\\\sources\\\\Data\\\\MuoiTopics\\\\Ver1.1\\\\Test_Full\\\\Phap luat', 'E:\\\\TaiLieuDaiHoc\\\\NamTu\\\\HKI\\\\TieuLuanChuyenNganh\\\\TaiLieuThamKhao\\\\Project\\\\vietnamese-text-summarization-master\\\\sources\\\\Data\\\\MuoiTopics\\\\Ver1.1\\\\Test_Full\\\\Suc khoe', 'E:\\\\TaiLieuDaiHoc\\\\NamTu\\\\HKI\\\\TieuLuanChuyenNganh\\\\TaiLieuThamKhao\\\\Project\\\\vietnamese-text-summarization-master\\\\sources\\\\Data\\\\MuoiTopics\\\\Ver1.1\\\\Test_Full\\\\The gioi', 'E:\\\\TaiLieuDaiHoc\\\\NamTu\\\\HKI\\\\TieuLuanChuyenNganh\\\\TaiLieuThamKhao\\\\Project\\\\vietnamese-text-summarization-master\\\\sources\\\\Data\\\\MuoiTopics\\\\Ver1.1\\\\Test_Full\\\\The thao', 'E:\\\\TaiLieuDaiHoc\\\\NamTu\\\\HKI\\\\TieuLuanChuyenNganh\\\\TaiLieuThamKhao\\\\Project\\\\vietnamese-text-summarization-master\\\\sources\\\\Data\\\\MuoiTopics\\\\Ver1.1\\\\Test_Full\\\\Van hoa', 'E:\\\\TaiLieuDaiHoc\\\\NamTu\\\\HKI\\\\TieuLuanChuyenNganh\\\\TaiLieuThamKhao\\\\Project\\\\vietnamese-text-summarization-master\\\\sources\\\\Data\\\\MuoiTopics\\\\Ver1.1\\\\Test_Full\\\\Vi tinh', 'E:\\\\TaiLieuDaiHoc\\\\NamTu\\\\HKI\\\\TieuLuanChuyenNganh\\\\TaiLieuThamKhao\\\\Project\\\\vietnamese-text-summarization-master\\\\sources\\\\Data\\\\HaiMuoiBayTopics\\\\Ver1.1\\\\DatatrainNew\\\\Am nhac', 'E:\\\\TaiLieuDaiHoc\\\\NamTu\\\\HKI\\\\TieuLuanChuyenNganh\\\\TaiLieuThamKhao\\\\Project\\\\vietnamese-text-summarization-master\\\\sources\\\\Data\\\\HaiMuoiBayTopics\\\\Ver1.1\\\\DatatrainNew\\\\Am thuc', 'E:\\\\TaiLieuDaiHoc\\\\NamTu\\\\HKI\\\\TieuLuanChuyenNganh\\\\TaiLieuThamKhao\\\\Project\\\\vietnamese-text-summarization-master\\\\sources\\\\Data\\\\HaiMuoiBayTopics\\\\Ver1.1\\\\DatatrainNew\\\\Bat dong san', 'E:\\\\TaiLieuDaiHoc\\\\NamTu\\\\HKI\\\\TieuLuanChuyenNganh\\\\TaiLieuThamKhao\\\\Project\\\\vietnamese-text-summarization-master\\\\sources\\\\Data\\\\HaiMuoiBayTopics\\\\Ver1.1\\\\DatatrainNew\\\\Bong da', 'E:\\\\TaiLieuDaiHoc\\\\NamTu\\\\HKI\\\\TieuLuanChuyenNganh\\\\TaiLieuThamKhao\\\\Project\\\\vietnamese-text-summarization-master\\\\sources\\\\Data\\\\HaiMuoiBayTopics\\\\Ver1.1\\\\DatatrainNew\\\\Chung khoan', 'E:\\\\TaiLieuDaiHoc\\\\NamTu\\\\HKI\\\\TieuLuanChuyenNganh\\\\TaiLieuThamKhao\\\\Project\\\\vietnamese-text-summarization-master\\\\sources\\\\Data\\\\HaiMuoiBayTopics\\\\Ver1.1\\\\DatatrainNew\\\\Cum ga', 'E:\\\\TaiLieuDaiHoc\\\\NamTu\\\\HKI\\\\TieuLuanChuyenNganh\\\\TaiLieuThamKhao\\\\Project\\\\vietnamese-text-summarization-master\\\\sources\\\\Data\\\\HaiMuoiBayTopics\\\\Ver1.1\\\\DatatrainNew\\\\Cuoc song do day', 'E:\\\\TaiLieuDaiHoc\\\\NamTu\\\\HKI\\\\TieuLuanChuyenNganh\\\\TaiLieuThamKhao\\\\Project\\\\vietnamese-text-summarization-master\\\\sources\\\\Data\\\\HaiMuoiBayTopics\\\\Ver1.1\\\\DatatrainNew\\\\Du hoc', 'E:\\\\TaiLieuDaiHoc\\\\NamTu\\\\HKI\\\\TieuLuanChuyenNganh\\\\TaiLieuThamKhao\\\\Project\\\\vietnamese-text-summarization-master\\\\sources\\\\Data\\\\HaiMuoiBayTopics\\\\Ver1.1\\\\DatatrainNew\\\\Du lich', 'E:\\\\TaiLieuDaiHoc\\\\NamTu\\\\HKI\\\\TieuLuanChuyenNganh\\\\TaiLieuThamKhao\\\\Project\\\\vietnamese-text-summarization-master\\\\sources\\\\Data\\\\HaiMuoiBayTopics\\\\Ver1.1\\\\DatatrainNew\\\\Duong vao WTO', 'E:\\\\TaiLieuDaiHoc\\\\NamTu\\\\HKI\\\\TieuLuanChuyenNganh\\\\TaiLieuThamKhao\\\\Project\\\\vietnamese-text-summarization-master\\\\sources\\\\Data\\\\HaiMuoiBayTopics\\\\Ver1.1\\\\DatatrainNew\\\\Gia dinh', 'E:\\\\TaiLieuDaiHoc\\\\NamTu\\\\HKI\\\\TieuLuanChuyenNganh\\\\TaiLieuThamKhao\\\\Project\\\\vietnamese-text-summarization-master\\\\sources\\\\Data\\\\HaiMuoiBayTopics\\\\Ver1.1\\\\DatatrainNew\\\\Giai tri tin hoc', 'E:\\\\TaiLieuDaiHoc\\\\NamTu\\\\HKI\\\\TieuLuanChuyenNganh\\\\TaiLieuThamKhao\\\\Project\\\\vietnamese-text-summarization-master\\\\sources\\\\Data\\\\HaiMuoiBayTopics\\\\Ver1.1\\\\DatatrainNew\\\\Giao duc', 'E:\\\\TaiLieuDaiHoc\\\\NamTu\\\\HKI\\\\TieuLuanChuyenNganh\\\\TaiLieuThamKhao\\\\Project\\\\vietnamese-text-summarization-master\\\\sources\\\\Data\\\\HaiMuoiBayTopics\\\\Ver1.1\\\\DatatrainNew\\\\Gioi tinh', 'E:\\\\TaiLieuDaiHoc\\\\NamTu\\\\HKI\\\\TieuLuanChuyenNganh\\\\TaiLieuThamKhao\\\\Project\\\\vietnamese-text-summarization-master\\\\sources\\\\Data\\\\HaiMuoiBayTopics\\\\Ver1.1\\\\DatatrainNew\\\\Hackers va Virus', 'E:\\\\TaiLieuDaiHoc\\\\NamTu\\\\HKI\\\\TieuLuanChuyenNganh\\\\TaiLieuThamKhao\\\\Project\\\\vietnamese-text-summarization-master\\\\sources\\\\Data\\\\HaiMuoiBayTopics\\\\Ver1.1\\\\DatatrainNew\\\\Hinh su', 'E:\\\\TaiLieuDaiHoc\\\\NamTu\\\\HKI\\\\TieuLuanChuyenNganh\\\\TaiLieuThamKhao\\\\Project\\\\vietnamese-text-summarization-master\\\\sources\\\\Data\\\\HaiMuoiBayTopics\\\\Ver1.1\\\\DatatrainNew\\\\Khong gian song', 'E:\\\\TaiLieuDaiHoc\\\\NamTu\\\\HKI\\\\TieuLuanChuyenNganh\\\\TaiLieuThamKhao\\\\Project\\\\vietnamese-text-summarization-master\\\\sources\\\\Data\\\\HaiMuoiBayTopics\\\\Ver1.1\\\\DatatrainNew\\\\Kinh doanh quoc te', 'E:\\\\TaiLieuDaiHoc\\\\NamTu\\\\HKI\\\\TieuLuanChuyenNganh\\\\TaiLieuThamKhao\\\\Project\\\\vietnamese-text-summarization-master\\\\sources\\\\Data\\\\HaiMuoiBayTopics\\\\Ver1.1\\\\DatatrainNew\\\\Lam dep', 'E:\\\\TaiLieuDaiHoc\\\\NamTu\\\\HKI\\\\TieuLuanChuyenNganh\\\\TaiLieuThamKhao\\\\Project\\\\vietnamese-text-summarization-master\\\\sources\\\\Data\\\\HaiMuoiBayTopics\\\\Ver1.1\\\\DatatrainNew\\\\Loi song', 'E:\\\\TaiLieuDaiHoc\\\\NamTu\\\\HKI\\\\TieuLuanChuyenNganh\\\\TaiLieuThamKhao\\\\Project\\\\vietnamese-text-summarization-master\\\\sources\\\\Data\\\\HaiMuoiBayTopics\\\\Ver1.1\\\\DatatrainNew\\\\Mua sam', 'E:\\\\TaiLieuDaiHoc\\\\NamTu\\\\HKI\\\\TieuLuanChuyenNganh\\\\TaiLieuThamKhao\\\\Project\\\\vietnamese-text-summarization-master\\\\sources\\\\Data\\\\HaiMuoiBayTopics\\\\Ver1.1\\\\DatatrainNew\\\\My thuat', 'E:\\\\TaiLieuDaiHoc\\\\NamTu\\\\HKI\\\\TieuLuanChuyenNganh\\\\TaiLieuThamKhao\\\\Project\\\\vietnamese-text-summarization-master\\\\sources\\\\Data\\\\HaiMuoiBayTopics\\\\Ver1.1\\\\DatatrainNew\\\\San khau dien anh', 'E:\\\\TaiLieuDaiHoc\\\\NamTu\\\\HKI\\\\TieuLuanChuyenNganh\\\\TaiLieuThamKhao\\\\Project\\\\vietnamese-text-summarization-master\\\\sources\\\\Data\\\\HaiMuoiBayTopics\\\\Ver1.1\\\\DatatrainNew\\\\San pham tin hoc moi', 'E:\\\\TaiLieuDaiHoc\\\\NamTu\\\\HKI\\\\TieuLuanChuyenNganh\\\\TaiLieuThamKhao\\\\Project\\\\vietnamese-text-summarization-master\\\\sources\\\\Data\\\\HaiMuoiBayTopics\\\\Ver1.1\\\\DatatrainNew\\\\Tennis', 'E:\\\\TaiLieuDaiHoc\\\\NamTu\\\\HKI\\\\TieuLuanChuyenNganh\\\\TaiLieuThamKhao\\\\Project\\\\vietnamese-text-summarization-master\\\\sources\\\\Data\\\\HaiMuoiBayTopics\\\\Ver1.1\\\\DatatrainNew\\\\The gioi tre', 'E:\\\\TaiLieuDaiHoc\\\\NamTu\\\\HKI\\\\TieuLuanChuyenNganh\\\\TaiLieuThamKhao\\\\Project\\\\vietnamese-text-summarization-master\\\\sources\\\\Data\\\\HaiMuoiBayTopics\\\\Ver1.1\\\\DatatrainNew\\\\Thoi trang', 'E:\\\\TaiLieuDaiHoc\\\\NamTu\\\\HKI\\\\TieuLuanChuyenNganh\\\\TaiLieuThamKhao\\\\Project\\\\vietnamese-text-summarization-master\\\\sources\\\\Data\\\\HaiMuoiBayTopics\\\\Ver1.1\\\\DatatestNew\\\\Am nhac', 'E:\\\\TaiLieuDaiHoc\\\\NamTu\\\\HKI\\\\TieuLuanChuyenNganh\\\\TaiLieuThamKhao\\\\Project\\\\vietnamese-text-summarization-master\\\\sources\\\\Data\\\\HaiMuoiBayTopics\\\\Ver1.1\\\\DatatestNew\\\\Am thuc', 'E:\\\\TaiLieuDaiHoc\\\\NamTu\\\\HKI\\\\TieuLuanChuyenNganh\\\\TaiLieuThamKhao\\\\Project\\\\vietnamese-text-summarization-master\\\\sources\\\\Data\\\\HaiMuoiBayTopics\\\\Ver1.1\\\\DatatestNew\\\\Bat dong san', 'E:\\\\TaiLieuDaiHoc\\\\NamTu\\\\HKI\\\\TieuLuanChuyenNganh\\\\TaiLieuThamKhao\\\\Project\\\\vietnamese-text-summarization-master\\\\sources\\\\Data\\\\HaiMuoiBayTopics\\\\Ver1.1\\\\DatatestNew\\\\Bong da', 'E:\\\\TaiLieuDaiHoc\\\\NamTu\\\\HKI\\\\TieuLuanChuyenNganh\\\\TaiLieuThamKhao\\\\Project\\\\vietnamese-text-summarization-master\\\\sources\\\\Data\\\\HaiMuoiBayTopics\\\\Ver1.1\\\\DatatestNew\\\\Chung khoan', 'E:\\\\TaiLieuDaiHoc\\\\NamTu\\\\HKI\\\\TieuLuanChuyenNganh\\\\TaiLieuThamKhao\\\\Project\\\\vietnamese-text-summarization-master\\\\sources\\\\Data\\\\HaiMuoiBayTopics\\\\Ver1.1\\\\DatatestNew\\\\Cum ga', 'E:\\\\TaiLieuDaiHoc\\\\NamTu\\\\HKI\\\\TieuLuanChuyenNganh\\\\TaiLieuThamKhao\\\\Project\\\\vietnamese-text-summarization-master\\\\sources\\\\Data\\\\HaiMuoiBayTopics\\\\Ver1.1\\\\DatatestNew\\\\Cuoc song do day', 'E:\\\\TaiLieuDaiHoc\\\\NamTu\\\\HKI\\\\TieuLuanChuyenNganh\\\\TaiLieuThamKhao\\\\Project\\\\vietnamese-text-summarization-master\\\\sources\\\\Data\\\\HaiMuoiBayTopics\\\\Ver1.1\\\\DatatestNew\\\\Du hoc', 'E:\\\\TaiLieuDaiHoc\\\\NamTu\\\\HKI\\\\TieuLuanChuyenNganh\\\\TaiLieuThamKhao\\\\Project\\\\vietnamese-text-summarization-master\\\\sources\\\\Data\\\\HaiMuoiBayTopics\\\\Ver1.1\\\\DatatestNew\\\\Du lich', 'E:\\\\TaiLieuDaiHoc\\\\NamTu\\\\HKI\\\\TieuLuanChuyenNganh\\\\TaiLieuThamKhao\\\\Project\\\\vietnamese-text-summarization-master\\\\sources\\\\Data\\\\HaiMuoiBayTopics\\\\Ver1.1\\\\DatatestNew\\\\Duong vao WTO', 'E:\\\\TaiLieuDaiHoc\\\\NamTu\\\\HKI\\\\TieuLuanChuyenNganh\\\\TaiLieuThamKhao\\\\Project\\\\vietnamese-text-summarization-master\\\\sources\\\\Data\\\\HaiMuoiBayTopics\\\\Ver1.1\\\\DatatestNew\\\\Gia dinh', 'E:\\\\TaiLieuDaiHoc\\\\NamTu\\\\HKI\\\\TieuLuanChuyenNganh\\\\TaiLieuThamKhao\\\\Project\\\\vietnamese-text-summarization-master\\\\sources\\\\Data\\\\HaiMuoiBayTopics\\\\Ver1.1\\\\DatatestNew\\\\Giai tri tin hoc', 'E:\\\\TaiLieuDaiHoc\\\\NamTu\\\\HKI\\\\TieuLuanChuyenNganh\\\\TaiLieuThamKhao\\\\Project\\\\vietnamese-text-summarization-master\\\\sources\\\\Data\\\\HaiMuoiBayTopics\\\\Ver1.1\\\\DatatestNew\\\\Giao duc', 'E:\\\\TaiLieuDaiHoc\\\\NamTu\\\\HKI\\\\TieuLuanChuyenNganh\\\\TaiLieuThamKhao\\\\Project\\\\vietnamese-text-summarization-master\\\\sources\\\\Data\\\\HaiMuoiBayTopics\\\\Ver1.1\\\\DatatestNew\\\\Gioi tinh', 'E:\\\\TaiLieuDaiHoc\\\\NamTu\\\\HKI\\\\TieuLuanChuyenNganh\\\\TaiLieuThamKhao\\\\Project\\\\vietnamese-text-summarization-master\\\\sources\\\\Data\\\\HaiMuoiBayTopics\\\\Ver1.1\\\\DatatestNew\\\\Hackers va Virus', 'E:\\\\TaiLieuDaiHoc\\\\NamTu\\\\HKI\\\\TieuLuanChuyenNganh\\\\TaiLieuThamKhao\\\\Project\\\\vietnamese-text-summarization-master\\\\sources\\\\Data\\\\HaiMuoiBayTopics\\\\Ver1.1\\\\DatatestNew\\\\Hinh su', 'E:\\\\TaiLieuDaiHoc\\\\NamTu\\\\HKI\\\\TieuLuanChuyenNganh\\\\TaiLieuThamKhao\\\\Project\\\\vietnamese-text-summarization-master\\\\sources\\\\Data\\\\HaiMuoiBayTopics\\\\Ver1.1\\\\DatatestNew\\\\Khong gian song', 'E:\\\\TaiLieuDaiHoc\\\\NamTu\\\\HKI\\\\TieuLuanChuyenNganh\\\\TaiLieuThamKhao\\\\Project\\\\vietnamese-text-summarization-master\\\\sources\\\\Data\\\\HaiMuoiBayTopics\\\\Ver1.1\\\\DatatestNew\\\\Kinh doanh quoc te', 'E:\\\\TaiLieuDaiHoc\\\\NamTu\\\\HKI\\\\TieuLuanChuyenNganh\\\\TaiLieuThamKhao\\\\Project\\\\vietnamese-text-summarization-master\\\\sources\\\\Data\\\\HaiMuoiBayTopics\\\\Ver1.1\\\\DatatestNew\\\\Lam dep', 'E:\\\\TaiLieuDaiHoc\\\\NamTu\\\\HKI\\\\TieuLuanChuyenNganh\\\\TaiLieuThamKhao\\\\Project\\\\vietnamese-text-summarization-master\\\\sources\\\\Data\\\\HaiMuoiBayTopics\\\\Ver1.1\\\\DatatestNew\\\\Loi song', 'E:\\\\TaiLieuDaiHoc\\\\NamTu\\\\HKI\\\\TieuLuanChuyenNganh\\\\TaiLieuThamKhao\\\\Project\\\\vietnamese-text-summarization-master\\\\sources\\\\Data\\\\HaiMuoiBayTopics\\\\Ver1.1\\\\DatatestNew\\\\Mua sam', 'E:\\\\TaiLieuDaiHoc\\\\NamTu\\\\HKI\\\\TieuLuanChuyenNganh\\\\TaiLieuThamKhao\\\\Project\\\\vietnamese-text-summarization-master\\\\sources\\\\Data\\\\HaiMuoiBayTopics\\\\Ver1.1\\\\DatatestNew\\\\My thuat', 'E:\\\\TaiLieuDaiHoc\\\\NamTu\\\\HKI\\\\TieuLuanChuyenNganh\\\\TaiLieuThamKhao\\\\Project\\\\vietnamese-text-summarization-master\\\\sources\\\\Data\\\\HaiMuoiBayTopics\\\\Ver1.1\\\\DatatestNew\\\\San khau dien anh', 'E:\\\\TaiLieuDaiHoc\\\\NamTu\\\\HKI\\\\TieuLuanChuyenNganh\\\\TaiLieuThamKhao\\\\Project\\\\vietnamese-text-summarization-master\\\\sources\\\\Data\\\\HaiMuoiBayTopics\\\\Ver1.1\\\\DatatestNew\\\\San pham tin hoc moi', 'E:\\\\TaiLieuDaiHoc\\\\NamTu\\\\HKI\\\\TieuLuanChuyenNganh\\\\TaiLieuThamKhao\\\\Project\\\\vietnamese-text-summarization-master\\\\sources\\\\Data\\\\HaiMuoiBayTopics\\\\Ver1.1\\\\DatatestNew\\\\Tennis', 'E:\\\\TaiLieuDaiHoc\\\\NamTu\\\\HKI\\\\TieuLuanChuyenNganh\\\\TaiLieuThamKhao\\\\Project\\\\vietnamese-text-summarization-master\\\\sources\\\\Data\\\\HaiMuoiBayTopics\\\\Ver1.1\\\\DatatestNew\\\\The gioi tre', 'E:\\\\TaiLieuDaiHoc\\\\NamTu\\\\HKI\\\\TieuLuanChuyenNganh\\\\TaiLieuThamKhao\\\\Project\\\\vietnamese-text-summarization-master\\\\sources\\\\Data\\\\HaiMuoiBayTopics\\\\Ver1.1\\\\DatatestNew\\\\Thoi trang']\n"
     ]
    }
   ],
   "source": [
    "dirs = []\n",
    "for path in train_paths:\n",
    "    for p in os.listdir(path):\n",
    "        dirs.append(os.path.join(path, p))\n",
    "print(dirs)"
   ]
  },
  {
   "cell_type": "code",
   "execution_count": 18,
   "metadata": {},
   "outputs": [
    {
     "name": "stderr",
     "output_type": "stream",
     "text": [
      " 11%|█         | 8/74 [03:39<33:15, 30.23s/it]"
     ]
    }
   ],
   "source": [
    "# dirs.remove('/Users/linhnvc/Desktop/NLP-proj/Data/10Topics/Ver1.1/Train_Full/.DS_Store')\n",
    "# dirs.remove('/Users/linhnvc/Desktop/NLP-proj/Data/10Topics/Ver1.1/Test_Full/.DS_Store')\n",
    "# dirs.remove('/Users/linhnvc/Desktop/NLP-proj/Data/27Topics/Ver1.1/new test/.DS_Store')\n",
    "# print(len(dirs))\n",
    "# print(dirs)\n",
    "\n",
    "# hàm tqdm sẽ hiển thị giao diện tiến trình chạy vòng lặp bên dưới \n",
    "for d in tqdm(dirs):\n",
    "    sens = get_data(d)\n",
    "    sentences = sentences + sens\n"
   ]
  },
  {
   "cell_type": "code",
   "execution_count": null,
   "metadata": {},
   "outputs": [
    {
     "name": "stdout",
     "output_type": "stream",
     "text": [
      "2385532\n"
     ]
    }
   ],
   "source": [
    "print(len(sentences))"
   ]
  },
  {
   "cell_type": "code",
   "execution_count": null,
   "metadata": {},
   "outputs": [],
   "source": [
    "# Write data vào file sentences.pkl. wb : write binary\n",
    "pickle.dump(sentences, open('./sentences.pkl', 'wb'))"
   ]
  }
 ],
 "metadata": {
  "kernelspec": {
   "display_name": "Python 3.10.0 64-bit",
   "language": "python",
   "name": "python3"
  },
  "language_info": {
   "codemirror_mode": {
    "name": "ipython",
    "version": 3
   },
   "file_extension": ".py",
   "mimetype": "text/x-python",
   "name": "python",
   "nbconvert_exporter": "python",
   "pygments_lexer": "ipython3",
   "version": "3.10.0"
  },
  "vscode": {
   "interpreter": {
    "hash": "300ab3523d9a002b8aa4e51dfdf30c981129d9775c0b7f5666af19a3981c6d47"
   }
  }
 },
 "nbformat": 4,
 "nbformat_minor": 2
}
