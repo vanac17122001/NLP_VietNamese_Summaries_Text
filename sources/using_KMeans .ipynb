{
 "cells": [
  {
   "cell_type": "code",
   "execution_count": 1,
   "metadata": {},
   "outputs": [
    {
     "name": "stdout",
     "output_type": "stream",
     "text": [
      "K-Means\n",
      "['cốt_tỏa', 'tả_ủy', 'bì_bạch_linh']\n",
      "173444\n"
     ]
    }
   ],
   "source": [
    "print(\"K-Means\")\n",
    "\n",
    "import gensim.models.keyedvectors as word2vec\n",
    "w2v_model = word2vec.KeyedVectors.load_word2vec_format('w2v_cbow.model')\n",
    "\n",
    "vocabulary = []\n",
    "for word in w2v_model.key_to_index.keys():\n",
    "    vocabulary.append(word)\n",
    "print(vocabulary[173440:173443])\n",
    "print(len(vocabulary))"
   ]
  },
  {
   "cell_type": "code",
   "execution_count": 2,
   "metadata": {},
   "outputs": [
    {
     "name": "stdout",
     "output_type": "stream",
     "text": [
      "Câu 0 === trump cáo buộc đảng dân chủ đang theo đuổi \"nỗ lực đảo chính bất hợp pháp, mang tính đảng phái\" khi tìm cách luận tội ông.\n",
      "Câu 1 === \"chính các người mới là phe can thiệp vào bầu cử mỹ, phá vỡ nền dân chủ của đất nước và cản trở công lý.\n",
      "Câu 2 === điều này không là gì khác ngoài một nỗ lực đảo chính bất hợp pháp, mang tính đảng phái và sẽ thất bại nặng nề tại hòm phiếu, dựa trên tình hình gần đây\", tổng thống mỹ donald trump viết trong lá thư dài 6 trang gửi chủ tịch hạ viện nancy pelosi vào hôm qua để chỉ trích cuộc điều tra luận tội của phe dân chủ.\n",
      "Câu 3 === ông chủ nhà trắng viết thêm rằng bà pelosi \"đang biến hạ viện từ cơ quan lập pháp được kính trọng thành một phòng xử án của cuộc đàn áp đảng phái\", đồng thời \"gần như không thèm che giấu sự thù ghét\" đối với ông.\n",
      "Câu 4 === \"bằng cách thúc đẩy cuộc luận tội trái phép đó, các người đang vi phạm lời thề nhậm chức, phá vỡ lòng trung thành với hiến pháp và tuyên chiến với nền dân chủ mỹ.\n",
      "Câu 5 === các người coi dân chủ là kẻ thù của chính mình\", trump viết.\n",
      "Câu 6 === bức thư của trump được gửi đi trong bối cảnh hạ viện, nơi đảng dân chủ chiếm đa số, dự kiến bỏ phiếu vào hôm nay về các điều khoản luận tội tổng thống mỹ và khả năng cao sẽ thông qua để đưa trump ra xét xử tại thượng viện.\n",
      "Câu 7 === ông gần như chắc chắn sẽ trở thành tổng thống mỹ thứ ba trong lịch sử bị luận tội.\n",
      "Câu 8 === trước đó, ủy ban tư pháp hạ viện đã thông qua hai điều khoản luận tội trump, bao gồm lạm dụng quyền lực và cản trở quốc hội.\n",
      "Câu 9 === phe dân chủ cáo buộc trump thúc ép ukraine điều tra cha con cựu phó tổng thống mỹ joe biden, đối thủ của trump trong cuộc bầu cử năm 2020, gây nguy hiểm cho hiến pháp mỹ, an ninh quốc gia và tính công bằng của bầu cử.\n",
      "Câu 10 === trong khi đó, đảng cộng hòa vẫn cố gắng bảo vệ trump, khi lãnh đạo phe đa số tại thượng viện mitch mcconnell bác bỏ yêu cầu của đảng dân chủ nhằm đề nghị 4 quan chức cũ và đương nhiệm ra làm chứng tại phiên tòa luận tội dự kiến diễn ra ở thượng viện vào tháng tới.\n",
      "Câu 11 === hạ viện mỹ mở cuộc điều tra luận tội trump từ tháng 9, sau khi một người tố giác giấu tên đệ đơn cáo buộc tổng thống mỹ dùng gói viện trợ quân sự để gây áp lực lên người đồng cấp ukraine volodymyr zelensky.\n",
      "Câu 12 === tuy nhiên, trump phủ nhận các cáo buộc và gọi cuộc điều tra luận tội là trò lừa bịp.\n"
     ]
    }
   ],
   "source": [
    "content = \"\"\"\n",
    "Trump cáo buộc đảng Dân chủ đang theo đuổi \"nỗ lực đảo chính bất hợp pháp, mang tính đảng phái\" khi tìm cách luận tội ông.\n",
    "\n",
    "\"Chính các người mới là phe can thiệp vào bầu cử Mỹ, phá vỡ nền dân chủ của đất nước và cản trở công lý. Điều này không là gì khác ngoài một nỗ lực đảo chính bất hợp pháp, mang tính đảng phái và sẽ thất bại nặng nề tại hòm phiếu, dựa trên tình hình gần đây\", Tổng thống Mỹ Donald Trump viết trong lá thư dài 6 trang gửi Chủ tịch Hạ viện Nancy Pelosi vào hôm qua để chỉ trích cuộc điều tra luận tội của phe Dân chủ. \n",
    "\n",
    "Ông chủ Nhà Trắng viết thêm rằng bà Pelosi \"đang biến hạ viện từ cơ quan lập pháp được kính trọng thành một phòng xử án của cuộc đàn áp đảng phái\", đồng thời \"gần như không thèm che giấu sự thù ghét\" đối với ông. \n",
    "\n",
    "\"Bằng cách thúc đẩy cuộc luận tội trái phép đó, các người đang vi phạm lời thề nhậm chức, phá vỡ lòng trung thành với hiến pháp và tuyên chiến với nền dân chủ Mỹ. Các người coi dân chủ là kẻ thù của chính mình\", Trump viết.\n",
    "Bức thư của Trump được gửi đi trong bối cảnh hạ viện, nơi đảng Dân chủ chiếm đa số, dự kiến bỏ phiếu vào hôm nay về các điều khoản luận tội Tổng thống Mỹ và khả năng cao sẽ thông qua để đưa Trump ra xét xử tại thượng viện. Ông gần như chắc chắn sẽ trở thành tổng thống Mỹ thứ ba trong lịch sử bị luận tội. \n",
    "\n",
    "Trước đó, Ủy ban Tư pháp Hạ viện đã thông qua hai điều khoản luận tội Trump, bao gồm lạm dụng quyền lực và cản trở quốc hội. Phe Dân chủ cáo buộc Trump thúc ép Ukraine điều tra cha con cựu phó tổng thống Mỹ Joe Biden, đối thủ của Trump trong cuộc bầu cử năm 2020, gây nguy hiểm cho hiến pháp Mỹ, an ninh quốc gia và tính công bằng của bầu cử. \n",
    "\n",
    "Trong khi đó, đảng Cộng hòa vẫn cố gắng bảo vệ Trump, khi lãnh đạo phe đa số tại thượng viện Mitch McConnell bác bỏ yêu cầu của đảng Dân chủ nhằm đề nghị 4 quan chức cũ và đương nhiệm ra làm chứng tại phiên tòa luận tội dự kiến diễn ra ở thượng viện vào tháng tới. \n",
    "\n",
    "Hạ viện Mỹ mở cuộc điều tra luận tội Trump từ tháng 9, sau khi một người tố giác giấu tên đệ đơn cáo buộc Tổng thống Mỹ dùng gói viện trợ quân sự để gây áp lực lên người đồng cấp Ukraine Volodymyr Zelensky. Tuy nhiên, Trump phủ nhận các cáo buộc và gọi cuộc điều tra luận tội là trò lừa bịp.\n",
    "\"\"\"\n",
    "\n",
    "contents_parsed = content.lower() \n",
    "contents_parsed = contents_parsed.replace('\\n', ' ')\n",
    "# strip() - Remove space characters at the beginning and end of sentences\n",
    "contents_parsed = contents_parsed.strip() \n",
    "\n",
    "import nltk\n",
    "sentences = nltk.sent_tokenize(contents_parsed)\n",
    "\n",
    "i = 0\n",
    "for sentence in sentences:\n",
    "    print('Câu '+ str(i),\"===\", sentence)\n",
    "    i += 1"
   ]
  },
  {
   "cell_type": "code",
   "execution_count": 3,
   "metadata": {},
   "outputs": [
    {
     "name": "stdout",
     "output_type": "stream",
     "text": [
      "Số câu của đoạn văn bản : 13\n"
     ]
    }
   ],
   "source": [
    "\"\"\"The pyVi library with the ViTokenize function will help us put together \n",
    "\tmeaningful words in Vietnamese to ensure that the meaning of each word is preserved!\n",
    "\n",
    "Then, I declare a 128-dimensional vector consisting of all zeros, then for each word in the sentence,\n",
    "I use the function word2vec to convert it to a vector and then add it to this vector (if it can be converted to a vector). \n",
    "Finally after finishing each sentence, I add it to an array named X.\"\"\"\n",
    "\n",
    "from pyvi import ViTokenizer\n",
    "import numpy as np \n",
    "\n",
    "X = []\n",
    "for sentence in sentences:\n",
    "    \n",
    "    sentence_tokenized = ViTokenizer.tokenize(sentence)\n",
    "    words = sentence_tokenized.split(\" \")\n",
    "    sentence_vec = np.zeros((128))\n",
    "    for word in words:\n",
    "        if word in vocabulary:\n",
    "            sentence_vec+=w2v_model[word]\n",
    "    X.append(sentence_vec)\n",
    "\n",
    "print('Số câu của đoạn văn bản :',len(X))"
   ]
  },
  {
   "cell_type": "code",
   "execution_count": 4,
   "metadata": {},
   "outputs": [
    {
     "name": "stdout",
     "output_type": "stream",
     "text": [
      "K-Means Clustering\n",
      "\n",
      "Cụm 1\n",
      "[9]\n",
      "Thứ tự trung bình:  9.0\n",
      "===================================================================================================================\n",
      "Cụm 2\n",
      "[ 0  1  3  4  5  7  8 12]\n",
      "Thứ tự trung bình:  5.0\n",
      "===================================================================================================================\n",
      "Cụm 3\n",
      "[ 6 10]\n",
      "Thứ tự trung bình:  8.0\n",
      "===================================================================================================================\n",
      "Cụm 4\n",
      "[2]\n",
      "Thứ tự trung bình:  2.0\n",
      "===================================================================================================================\n",
      "Cụm 5\n",
      "[11]\n",
      "Thứ tự trung bình:  11.0\n",
      "===================================================================================================================\n",
      "Các câu gần 5 tâm cụm nhất [ 9  0  6  2 11]\n",
      "\n",
      "Kết quả tóm tắt:\n",
      "\n",
      "(Câu 2) điều này không là gì khác ngoài một nỗ lực đảo chính bất hợp pháp, mang tính đảng phái và sẽ thất bại nặng nề tại hòm phiếu, dựa trên tình hình gần đây\", tổng thống mỹ donald trump viết trong lá thư dài 6 trang gửi chủ tịch hạ viện nancy pelosi vào hôm qua để chỉ trích cuộc điều tra luận tội của phe dân chủ. (Câu 0) trump cáo buộc đảng dân chủ đang theo đuổi \"nỗ lực đảo chính bất hợp pháp, mang tính đảng phái\" khi tìm cách luận tội ông. (Câu 6) bức thư của trump được gửi đi trong bối cảnh hạ viện, nơi đảng dân chủ chiếm đa số, dự kiến bỏ phiếu vào hôm nay về các điều khoản luận tội tổng thống mỹ và khả năng cao sẽ thông qua để đưa trump ra xét xử tại thượng viện. (Câu 9) phe dân chủ cáo buộc trump thúc ép ukraine điều tra cha con cựu phó tổng thống mỹ joe biden, đối thủ của trump trong cuộc bầu cử năm 2020, gây nguy hiểm cho hiến pháp mỹ, an ninh quốc gia và tính công bằng của bầu cử. (Câu 11) hạ viện mỹ mở cuộc điều tra luận tội trump từ tháng 9, sau khi một người tố giác giấu tên đệ đơn cáo buộc tổng thống mỹ dùng gói viện trợ quân sự để gây áp lực lên người đồng cấp ukraine volodymyr zelensky.\n"
     ]
    }
   ],
   "source": [
    "\"\"\"Cluster the text, \n",
    "\tthen choose the sentence that represents the content of the cluster \n",
    "\tas the one with the closest distance to the cluster center.\n",
    "Finally, the order of appearance of the representative sentences in the output \n",
    "\tis sorted by averaging the order of the sentences in the cluster.\n",
    "The algorithm used is K-means and \n",
    "the function pairwise_distances_argmin_min is used to calculate the distance between sentences in the cluster.\"\"\"\n",
    "\n",
    "from sklearn.cluster import KMeans\n",
    "from sklearn.metrics import pairwise_distances_argmin_min\n",
    "\n",
    "n_clusters = 5\n",
    "kmeans = KMeans(n_clusters=n_clusters)\n",
    "kmeans = kmeans.fit(X)\n",
    "\n",
    "print(\"K-Means Clustering\\n\")\n",
    "avg = []\n",
    "# Calculate averaging the order of the sentences in the cluster.\n",
    "for j in range(n_clusters):\n",
    "    print(\"Cụm\", j+1)\n",
    "    idx = np.where(kmeans.labels_ == j)[0]\n",
    "    print(idx)\n",
    "    avg.append(np.mean(idx))\n",
    "    print(\"Thứ tự trung bình: \", round(np.mean(idx), 2))\n",
    "    print(\"=\"*115)\n",
    "# Calculate the distance to find the sentences closest to the cluster center\n",
    "closest, _ = pairwise_distances_argmin_min(kmeans.cluster_centers_, X)\n",
    "print(\"Các câu gần\", n_clusters, \"tâm cụm nhất\",closest)\n",
    "ordering = sorted(range(n_clusters), key=lambda k: avg[k])\n",
    "# print(\"ordering : \", ordering)\n",
    "print(\"\\nKết quả tóm tắt:\\n\")\n",
    "summary = ' '.join([\"(Câu \" + str(closest[idx]) + \") \" + sentences[closest[idx]] for idx in ordering])\n",
    "print(summary)"
   ]
  }
 ],
 "metadata": {
  "kernelspec": {
   "display_name": "Python 3.10.0 64-bit",
   "language": "python",
   "name": "python3"
  },
  "language_info": {
   "codemirror_mode": {
    "name": "ipython",
    "version": 3
   },
   "file_extension": ".py",
   "mimetype": "text/x-python",
   "name": "python",
   "nbconvert_exporter": "python",
   "pygments_lexer": "ipython3",
   "version": "3.10.0 (tags/v3.10.0:b494f59, Oct  4 2021, 19:00:18) [MSC v.1929 64 bit (AMD64)]"
  },
  "vscode": {
   "interpreter": {
    "hash": "7d1edf6b6f9f90690d614e93b9aa31e0491e377e3cd635605f807742e2982f8d"
   }
  }
 },
 "nbformat": 4,
 "nbformat_minor": 2
}
