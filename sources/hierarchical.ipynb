{
 "cells": [
  {
   "cell_type": "code",
   "execution_count": 1,
   "metadata": {},
   "outputs": [
    {
     "name": "stdout",
     "output_type": "stream",
     "text": [
      "Hierarchical\n"
     ]
    },
    {
     "name": "stderr",
     "output_type": "stream",
     "text": [
      "/Users/linhnvc/anaconda3/lib/python3.7/site-packages/smart_open/smart_open_lib.py:398: UserWarning: This function is deprecated, use smart_open.open instead. See the migration notes for details: https://github.com/RaRe-Technologies/smart_open/blob/master/README.rst#migrating-to-the-new-open-function\n",
      "  'See the migration notes for details: %s' % _MIGRATION_NOTES_URL\n"
     ]
    },
    {
     "name": "stdout",
     "output_type": "stream",
     "text": [
      "225822\n"
     ]
    }
   ],
   "source": [
    "print(\"Hierarchical\")\n",
    "\n",
    "import gensim \n",
    "import gensim.models.keyedvectors as word2vec\n",
    "w2v_model = word2vec.KeyedVectors.load('w2v.model')\n",
    "\n",
    "vocabulary = []\n",
    "for word in w2v_model.vocab.keys():\n",
    "    vocabulary.append(word)\n",
    "print(len(vocabulary))"
   ]
  },
  {
   "cell_type": "code",
   "execution_count": 4,
   "metadata": {},
   "outputs": [
    {
     "name": "stdout",
     "output_type": "stream",
     "text": [
      "\n",
      "Trump cáo buộc đảng Dân chủ đang theo đuổi \"nỗ lực đảo chính bất hợp pháp, mang tính đảng phái\" khi tìm cách luận tội ông.\n",
      "\n",
      "\"Chính các người mới là phe can thiệp vào bầu cử Mỹ, phá vỡ nền dân chủ của đất nước và cản trở công lý. Điều này không là gì khác ngoài một nỗ lực đảo chính bất hợp pháp, mang tính đảng phái và sẽ thất bại nặng nề tại hòm phiếu, dựa trên tình hình gần đây\", Tổng thống Mỹ Donald Trump viết trong lá thư dài 6 trang gửi Chủ tịch Hạ viện Nancy Pelosi vào hôm qua để chỉ trích cuộc điều tra luận tội của phe Dân chủ. \n",
      "\n",
      "Ông chủ Nhà Trắng viết thêm rằng bà Pelosi \"đang biến hạ viện từ cơ quan lập pháp được kính trọng thành một phòng xử án của cuộc đàn áp đảng phái\", đồng thời \"gần như không thèm che giấu sự thù ghét\" đối với ông. \n",
      "\n",
      "\"Bằng cách thúc đẩy cuộc luận tội trái phép đó, các người đang vi phạm lời thề nhậm chức, phá vỡ lòng trung thành với hiến pháp và tuyên chiến với nền dân chủ Mỹ. Các người coi dân chủ là kẻ thù của chính mình\", Trump viết.\n",
      "Bức thư của Trump được gửi đi trong bối cảnh hạ viện, nơi đảng Dân chủ chiếm đa số, dự kiến bỏ phiếu vào hôm nay về các điều khoản luận tội Tổng thống Mỹ và khả năng cao sẽ thông qua để đưa Trump ra xét xử tại thượng viện. Ông gần như chắc chắn sẽ trở thành tổng thống Mỹ thứ ba trong lịch sử bị luận tội. \n",
      "\n",
      "Trước đó, Ủy ban Tư pháp Hạ viện đã thông qua hai điều khoản luận tội Trump, bao gồm lạm dụng quyền lực và cản trở quốc hội. Phe Dân chủ cáo buộc Trump thúc ép Ukraine điều tra cha con cựu phó tổng thống Mỹ Joe Biden, đối thủ của Trump trong cuộc bầu cử năm 2020, gây nguy hiểm cho hiến pháp Mỹ, an ninh quốc gia và tính công bằng của bầu cử. \n",
      "\n",
      "Trong khi đó, đảng Cộng hòa vẫn cố gắng bảo vệ Trump, khi lãnh đạo phe đa số tại thượng viện Mitch McConnell bác bỏ yêu cầu của đảng Dân chủ nhằm đề nghị 4 quan chức cũ và đương nhiệm ra làm chứng tại phiên tòa luận tội dự kiến diễn ra ở thượng viện vào tháng tới. \n",
      "\n",
      "Hạ viện Mỹ mở cuộc điều tra luận tội Trump từ tháng 9, sau khi một người tố giác giấu tên đệ đơn cáo buộc Tổng thống Mỹ dùng gói viện trợ quân sự để gây áp lực lên người đồng cấp Ukraine Volodymyr Zelensky. Tuy nhiên, Trump phủ nhận các cáo buộc và gọi cuộc điều tra luận tội là trò lừa bịp.\n",
      "\n",
      "0 === trump cáo buộc đảng dân chủ đang theo đuổi \"nỗ lực đảo chính bất hợp pháp, mang tính đảng phái\" khi tìm cách luận tội ông.\n",
      "1 === \"chính các người mới là phe can thiệp vào bầu cử mỹ, phá vỡ nền dân chủ của đất nước và cản trở công lý.\n",
      "2 === điều này không là gì khác ngoài một nỗ lực đảo chính bất hợp pháp, mang tính đảng phái và sẽ thất bại nặng nề tại hòm phiếu, dựa trên tình hình gần đây\", tổng thống mỹ donald trump viết trong lá thư dài 6 trang gửi chủ tịch hạ viện nancy pelosi vào hôm qua để chỉ trích cuộc điều tra luận tội của phe dân chủ.\n",
      "3 === ông chủ nhà trắng viết thêm rằng bà pelosi \"đang biến hạ viện từ cơ quan lập pháp được kính trọng thành một phòng xử án của cuộc đàn áp đảng phái\", đồng thời \"gần như không thèm che giấu sự thù ghét\" đối với ông.\n",
      "4 === \"bằng cách thúc đẩy cuộc luận tội trái phép đó, các người đang vi phạm lời thề nhậm chức, phá vỡ lòng trung thành với hiến pháp và tuyên chiến với nền dân chủ mỹ.\n",
      "5 === các người coi dân chủ là kẻ thù của chính mình\", trump viết.\n",
      "6 === bức thư của trump được gửi đi trong bối cảnh hạ viện, nơi đảng dân chủ chiếm đa số, dự kiến bỏ phiếu vào hôm nay về các điều khoản luận tội tổng thống mỹ và khả năng cao sẽ thông qua để đưa trump ra xét xử tại thượng viện.\n",
      "7 === ông gần như chắc chắn sẽ trở thành tổng thống mỹ thứ ba trong lịch sử bị luận tội.\n",
      "8 === trước đó, ủy ban tư pháp hạ viện đã thông qua hai điều khoản luận tội trump, bao gồm lạm dụng quyền lực và cản trở quốc hội.\n",
      "9 === phe dân chủ cáo buộc trump thúc ép ukraine điều tra cha con cựu phó tổng thống mỹ joe biden, đối thủ của trump trong cuộc bầu cử năm 2020, gây nguy hiểm cho hiến pháp mỹ, an ninh quốc gia và tính công bằng của bầu cử.\n",
      "10 === trong khi đó, đảng cộng hòa vẫn cố gắng bảo vệ trump, khi lãnh đạo phe đa số tại thượng viện mitch mcconnell bác bỏ yêu cầu của đảng dân chủ nhằm đề nghị 4 quan chức cũ và đương nhiệm ra làm chứng tại phiên tòa luận tội dự kiến diễn ra ở thượng viện vào tháng tới.\n",
      "11 === hạ viện mỹ mở cuộc điều tra luận tội trump từ tháng 9, sau khi một người tố giác giấu tên đệ đơn cáo buộc tổng thống mỹ dùng gói viện trợ quân sự để gây áp lực lên người đồng cấp ukraine volodymyr zelensky.\n",
      "12 === tuy nhiên, trump phủ nhận các cáo buộc và gọi cuộc điều tra luận tội là trò lừa bịp.\n"
     ]
    }
   ],
   "source": [
    "content = \"\"\"\n",
    "Trump cáo buộc đảng Dân chủ đang theo đuổi \"nỗ lực đảo chính bất hợp pháp, mang tính đảng phái\" khi tìm cách luận tội ông.\n",
    "\n",
    "\"Chính các người mới là phe can thiệp vào bầu cử Mỹ, phá vỡ nền dân chủ của đất nước và cản trở công lý. Điều này không là gì khác ngoài một nỗ lực đảo chính bất hợp pháp, mang tính đảng phái và sẽ thất bại nặng nề tại hòm phiếu, dựa trên tình hình gần đây\", Tổng thống Mỹ Donald Trump viết trong lá thư dài 6 trang gửi Chủ tịch Hạ viện Nancy Pelosi vào hôm qua để chỉ trích cuộc điều tra luận tội của phe Dân chủ. \n",
    "\n",
    "Ông chủ Nhà Trắng viết thêm rằng bà Pelosi \"đang biến hạ viện từ cơ quan lập pháp được kính trọng thành một phòng xử án của cuộc đàn áp đảng phái\", đồng thời \"gần như không thèm che giấu sự thù ghét\" đối với ông. \n",
    "\n",
    "\"Bằng cách thúc đẩy cuộc luận tội trái phép đó, các người đang vi phạm lời thề nhậm chức, phá vỡ lòng trung thành với hiến pháp và tuyên chiến với nền dân chủ Mỹ. Các người coi dân chủ là kẻ thù của chính mình\", Trump viết.\n",
    "Bức thư của Trump được gửi đi trong bối cảnh hạ viện, nơi đảng Dân chủ chiếm đa số, dự kiến bỏ phiếu vào hôm nay về các điều khoản luận tội Tổng thống Mỹ và khả năng cao sẽ thông qua để đưa Trump ra xét xử tại thượng viện. Ông gần như chắc chắn sẽ trở thành tổng thống Mỹ thứ ba trong lịch sử bị luận tội. \n",
    "\n",
    "Trước đó, Ủy ban Tư pháp Hạ viện đã thông qua hai điều khoản luận tội Trump, bao gồm lạm dụng quyền lực và cản trở quốc hội. Phe Dân chủ cáo buộc Trump thúc ép Ukraine điều tra cha con cựu phó tổng thống Mỹ Joe Biden, đối thủ của Trump trong cuộc bầu cử năm 2020, gây nguy hiểm cho hiến pháp Mỹ, an ninh quốc gia và tính công bằng của bầu cử. \n",
    "\n",
    "Trong khi đó, đảng Cộng hòa vẫn cố gắng bảo vệ Trump, khi lãnh đạo phe đa số tại thượng viện Mitch McConnell bác bỏ yêu cầu của đảng Dân chủ nhằm đề nghị 4 quan chức cũ và đương nhiệm ra làm chứng tại phiên tòa luận tội dự kiến diễn ra ở thượng viện vào tháng tới. \n",
    "\n",
    "Hạ viện Mỹ mở cuộc điều tra luận tội Trump từ tháng 9, sau khi một người tố giác giấu tên đệ đơn cáo buộc Tổng thống Mỹ dùng gói viện trợ quân sự để gây áp lực lên người đồng cấp Ukraine Volodymyr Zelensky. Tuy nhiên, Trump phủ nhận các cáo buộc và gọi cuộc điều tra luận tội là trò lừa bịp.\n",
    "\"\"\"\n",
    "\n",
    "print(content)\n",
    "contents_parsed = content.lower() \n",
    "contents_parsed = contents_parsed.replace('\\n', ' ')\n",
    "contents_parsed = contents_parsed.strip() \n",
    "\n",
    "import nltk\n",
    "sentences = nltk.sent_tokenize(contents_parsed)\n",
    "\n",
    "i = 0\n",
    "for sentence in sentences:\n",
    "    print(i,\"===\", sentence)\n",
    "    i += 1"
   ]
  },
  {
   "cell_type": "code",
   "execution_count": 5,
   "metadata": {},
   "outputs": [
    {
     "name": "stdout",
     "output_type": "stream",
     "text": [
      "13\n"
     ]
    }
   ],
   "source": [
    "from pyvi import ViTokenizer\n",
    "import numpy as np \n",
    "\n",
    "X = []\n",
    "for sentence in sentences:\n",
    "    \n",
    "    # sentence = gensim.utils.simple_preprocess(sentence)\n",
    "    # sentence = ' '.join(sentence)\n",
    "    sentence_tokenized = ViTokenizer.tokenize(sentence)\n",
    "    # print(sentence_tokenized)\n",
    "    words = sentence_tokenized.split(\" \")\n",
    "    sentence_vec = np.zeros((128))\n",
    "    for word in words:\n",
    "        if word in vocabulary:\n",
    "            sentence_vec+=w2v_model[word]\n",
    "    X.append(sentence_vec)\n",
    "\n",
    "print(len(X))"
   ]
  },
  {
   "cell_type": "code",
   "execution_count": 6,
   "metadata": {},
   "outputs": [
    {
     "name": "stdout",
     "output_type": "stream",
     "text": [
      "Hierarchical Clustering ::::: [0 0 1 2 0 0 1 0 0 2 1 2 0] \n",
      "\n",
      "Cụm 1 [ 0  1  4  5  7  8 12]\n",
      "Cụm 2 [ 2  6 10]\n",
      "Cụm 3 [ 3  9 11]\n",
      "=========================================================================\n",
      "Thứ tự trung bình =  5.29\n",
      "Câu gần tâm cụm nhất: 0\n",
      "----------\n",
      "trump cáo buộc đảng dân chủ đang theo đuổi \"nỗ lực đảo chính bất hợp pháp, mang tính đảng phái\" khi tìm cách luận tội ông.\n",
      "=========================================================================\n",
      "Thứ tự trung bình =  6.0\n",
      "Câu gần tâm cụm nhất: 10\n",
      "----------\n",
      "trong khi đó, đảng cộng hòa vẫn cố gắng bảo vệ trump, khi lãnh đạo phe đa số tại thượng viện mitch mcconnell bác bỏ yêu cầu của đảng dân chủ nhằm đề nghị 4 quan chức cũ và đương nhiệm ra làm chứng tại phiên tòa luận tội dự kiến diễn ra ở thượng viện vào tháng tới.\n",
      "=========================================================================\n",
      "Thứ tự trung bình =  7.67\n",
      "Câu gần tâm cụm nhất: 11\n",
      "----------\n",
      "hạ viện mỹ mở cuộc điều tra luận tội trump từ tháng 9, sau khi một người tố giác giấu tên đệ đơn cáo buộc tổng thống mỹ dùng gói viện trợ quân sự để gây áp lực lên người đồng cấp ukraine volodymyr zelensky.\n",
      "=========================================================================\n",
      "\n",
      "Kết quả tóm tắt:\n",
      "\n",
      "(Câu 0) trump cáo buộc đảng dân chủ đang theo đuổi \"nỗ lực đảo chính bất hợp pháp, mang tính đảng phái\" khi tìm cách luận tội ông. (Câu 10) trong khi đó, đảng cộng hòa vẫn cố gắng bảo vệ trump, khi lãnh đạo phe đa số tại thượng viện mitch mcconnell bác bỏ yêu cầu của đảng dân chủ nhằm đề nghị 4 quan chức cũ và đương nhiệm ra làm chứng tại phiên tòa luận tội dự kiến diễn ra ở thượng viện vào tháng tới. (Câu 11) hạ viện mỹ mở cuộc điều tra luận tội trump từ tháng 9, sau khi một người tố giác giấu tên đệ đơn cáo buộc tổng thống mỹ dùng gói viện trợ quân sự để gây áp lực lên người đồng cấp ukraine volodymyr zelensky.\n"
     ]
    }
   ],
   "source": [
    "from sklearn.cluster import AgglomerativeClustering\n",
    "from sklearn.cluster import KMeans\n",
    "from sklearn.metrics import pairwise_distances_argmin_min\n",
    "\n",
    "\n",
    "\n",
    "\n",
    "## ======== hierarchical clustering =========\n",
    "n_clusters_hierarchy = 3  # number of regions\n",
    "ward = AgglomerativeClustering(n_clusters=n_clusters_hierarchy)\n",
    "ward = ward.fit(X)\n",
    "print(\"Hierarchical Clustering :::::\", ward.labels_, \"\\n\")\n",
    "\n",
    "# ======== Determining the closest point to the center of each cluster\n",
    "X_Clusters = []\n",
    "idx_cluster = [] \n",
    "\n",
    "for j in range(n_clusters_hierarchy):\n",
    "    idx = np.where(ward.labels_ == j)[0]  \n",
    "    print(\"Cụm \" + str(j+1), idx)\n",
    "    \n",
    "    cluster_elements = []\n",
    "    for k in range(len(idx)):\n",
    "        cluster_elements.append(X[idx[k]])\n",
    "    idx_cluster.append(idx)\n",
    "    X_Clusters.append(cluster_elements)\n",
    "\n",
    "# print(idx_cluster)\n",
    "# print(len(X_Clusters))\n",
    "    \n",
    "    \n",
    "    \n",
    "print(\"=\"*73)    \n",
    "hierarchical_summary = []\n",
    "avg1 = []\n",
    "closest = []\n",
    "for j in range(len(X_Clusters)):\n",
    "    kmeans1 = KMeans(n_clusters = 1)\n",
    "    kmeans1 = kmeans1.fit(X_Clusters[j])\n",
    "\n",
    "\n",
    "    # idx1 = np.where(kmeans1.labels_ == 0)[0]\n",
    "    # print(\"idx = \", idx1)\n",
    "    avg1.append(np.mean(idx_cluster[j]))\n",
    "    \n",
    "    print(\"Thứ tự trung bình = \", round(np.mean(idx_cluster[j]), 2))\n",
    "    closest1, _ = pairwise_distances_argmin_min(kmeans1.cluster_centers_, X_Clusters[j])\n",
    "    closest.append(idx_cluster[j][closest1])\n",
    "    print(\"Câu gần tâm cụm nhất:\", idx_cluster[j][closest1][0])\n",
    "    hierarchical_summary.append(' ' + (sentences[idx_cluster[j][closest1[0]]]))\n",
    "    print(\"-\"*10)\n",
    "    print(sentences[idx_cluster[j][closest1[0]]])\n",
    "    print(\"=\"*73)\n",
    "    \n",
    "closest = np.array(closest)  \n",
    "ordering1 = sorted(range(n_clusters_hierarchy), key=lambda k: avg1[k])\n",
    "# print(ordering1)\n",
    "closest = closest.reshape(n_clusters_hierarchy,)\n",
    "sumary2 = ' '.join([\"(Câu \" + str(closest[idx]) + \") \" + sentences[closest[idx]] for idx in ordering1])\n",
    "\n",
    "print(\"\\nKết quả tóm tắt:\\n\")\n",
    "print(sumary2)"
   ]
  },
  {
   "cell_type": "code",
   "execution_count": null,
   "metadata": {},
   "outputs": [],
   "source": []
  },
  {
   "cell_type": "code",
   "execution_count": null,
   "metadata": {},
   "outputs": [],
   "source": []
  }
 ],
 "metadata": {
  "kernelspec": {
   "display_name": "Python 3",
   "language": "python",
   "name": "python3"
  },
  "language_info": {
   "codemirror_mode": {
    "name": "ipython",
    "version": 3
   },
   "file_extension": ".py",
   "mimetype": "text/x-python",
   "name": "python",
   "nbconvert_exporter": "python",
   "pygments_lexer": "ipython3",
   "version": "3.7.3"
  }
 },
 "nbformat": 4,
 "nbformat_minor": 2
}
